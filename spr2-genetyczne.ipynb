{
 "cells": [
  {
   "cell_type": "markdown",
   "metadata": {},
   "source": [
    "# Import libraries"
   ]
  },
  {
   "cell_type": "code",
   "execution_count": 1,
   "metadata": {},
   "outputs": [],
   "source": [
    "import pandas as pd\n",
    "import sys\n",
    "import numpy as np\n",
    "import random"
   ]
  },
  {
   "cell_type": "markdown",
   "metadata": {},
   "source": [
    "# Import data"
   ]
  },
  {
   "cell_type": "code",
   "execution_count": 196,
   "metadata": {},
   "outputs": [],
   "source": [
    "df1 = pd.read_excel('Dane_S2_50_10.xlsx')\n",
    "df1 = df1.drop('Zadanie',1)\n",
    "\n",
    "df2 = pd.read_excel('Dane_S2_100_20.xlsx')\n",
    "df2 = df2.drop('Zadanie',1)\n",
    "\n",
    "df3 = pd.read_excel('Dane_S2_200_20.xlsx')\n",
    "df3 = df3.drop('Zadanie',1)"
   ]
  },
  {
   "cell_type": "markdown",
   "metadata": {},
   "source": [
    "# Functions"
   ]
  },
  {
   "cell_type": "code",
   "execution_count": 202,
   "metadata": {},
   "outputs": [],
   "source": [
    "def CountScore(df):\n",
    "    m_czasy = []\n",
    "    v_czasy = []\n",
    "\n",
    "    for i in range(len(df)):\n",
    "        m_czasy.append([0] * len(df.columns))\n",
    "\n",
    "    for i in range(len(df)):\n",
    "        for j in range(len(df.columns)):\n",
    "            if(i!=0 and j!=0):\n",
    "                czas = max( m_czasy[i-1][j] + df.iloc[i,j],m_czasy[i][j-1] + df.iloc[i,j]) \n",
    "                m_czasy[i][j] = czas\n",
    "            elif(i==0 and j==0):\n",
    "                czas = df.iloc[i,j]\n",
    "                m_czasy[i][j] = czas\n",
    "            elif(i==0):\n",
    "                czas = max(df.iloc[i,j],m_czasy[i][j-1] + df.iloc[i,j])\n",
    "                m_czasy[i][j] = czas\n",
    "            elif(j==0):\n",
    "                czas = max(df.iloc[i,j],m_czasy[i-1][j] + df.iloc[i,j])\n",
    "                m_czasy[i][j] = czas\n",
    "\n",
    "    return m_czasy[i][j]\n",
    "\n",
    "def Cross(assigment1,assigment2,idx=5):\n",
    "    idx=random.randrange(0,len(assigment1),1)\n",
    "    #print(idx)\n",
    "\n",
    "    a=assigment1[:idx], assigment1[idx:]\n",
    "    b=assigment2[:idx], assigment2[idx:]\n",
    "    \n",
    "    child1_part1 = a[0]\n",
    "    child1_part2 = a[1]\n",
    "    child2_part1 = b[0]\n",
    "    child2_part2 = b[1]\n",
    "\n",
    "    child1 = child1_part1 + [ x for x in child2_part2 if not x in child1_part1]\n",
    "    child1 = child1 + [ x for x in child1_part2 if not x in child1]\n",
    "    \n",
    "    child2 = child2_part1 + [ x for x in child1_part2 if not x in child2_part1]\n",
    "    child2 = child2 + [ x for x in child1_part1 if not x in child2]\n",
    "    \n",
    "    return child1, child2\n",
    "  \n",
    "def CrossDf(df1,df2,idx=5):\n",
    "    idx=random.randrange(0,len(df1),1)\n",
    "    #print(idx)\n",
    "    \n",
    "    a=df1[:idx], df1[idx:]\n",
    "    b=df2[:idx], df2[idx:]\n",
    "\n",
    "    child1_part1 = list(a[0].index) \n",
    "    child1_part2 = list (a[1].index)\n",
    "    \n",
    "    child2_part1= list(b[0].index) \n",
    "    child2_part2 = list(b[1].index) \n",
    "    \n",
    "    child1 = child1_part1 + [ x for x in child2_part2 if not x in child1_part1]\n",
    "    child1 = child1 + [ x for x in child1_part2 if not x in child1]\n",
    "    \n",
    "    child2 = child2_part1 + [ x for x in child1_part2 if not x in child2_part1]\n",
    "    child2 = child2 + [ x for x in child1_part1 if not x in child2]\n",
    "    \n",
    "    return df1.iloc[child1], df1.iloc[child2]\n",
    "\n",
    "# def CrossAlt():\n",
    "\n",
    "# def Mutation():\n",
    "    #simple swap\n",
    "    \n",
    "# def MutationAlt():\n",
    "    #inwersja\n",
    "\n",
    "# def Tournament():\n"
   ]
  },
  {
   "cell_type": "markdown",
   "metadata": {},
   "source": [
    "# Main loop"
   ]
  },
  {
   "cell_type": "markdown",
   "metadata": {},
   "source": [
    "## Data 50x10"
   ]
  },
  {
   "cell_type": "code",
   "execution_count": 201,
   "metadata": {},
   "outputs": [
    {
     "name": "stdout",
     "output_type": "stream",
     "text": [
      "3835\n",
      "3977\n",
      "46\n",
      "3835\n",
      "36\n",
      "4028\n"
     ]
    }
   ],
   "source": [
    "df = df1 \n",
    "\n",
    "#na poczatku uszeregowanie 1..50\n",
    "print(CountScore(df))\n",
    "\n",
    "#po losowym pomieszaniu\n",
    "los = list(df.index)\n",
    "random.shuffle(los)\n",
    "print(CountScore(df.iloc[los]))\n",
    "\n",
    "#krzyzowka\n",
    "print( CountScore( df.iloc[ Cross(list(df.index), los)[0] ] ) )\n",
    "print( CountScore( df.iloc[ Cross(list(df.index), los)[1] ] ) )"
   ]
  },
  {
   "cell_type": "markdown",
   "metadata": {},
   "source": [
    "# Notes"
   ]
  },
  {
   "cell_type": "code",
   "execution_count": 6,
   "metadata": {},
   "outputs": [],
   "source": [
    "# abc = [11,12,13]\n",
    "# abc + abc\n",
    "# len([5, 1, 2]+[1,2])\n",
    "# [ x for x in list(Cross(df,df,5)[1].index) if not x in abc]\n",
    "# Cross(df2, df2.sample(n=len(df2)), 5)[0]\n",
    "# df1.sample(n=len(df1))\n",
    "# Cross(df, df.sample(n=len(df)), 5)[0]\n",
    "\n",
    "# zzz=list(df.index)\n",
    "# random.shuffle(zzz)\n",
    "# Cross(list(df.index),zzz)[0]"
   ]
  }
 ],
 "metadata": {
  "kernelspec": {
   "display_name": "Python 3",
   "language": "python",
   "name": "python3"
  },
  "language_info": {
   "codemirror_mode": {
    "name": "ipython",
    "version": 3
   },
   "file_extension": ".py",
   "mimetype": "text/x-python",
   "name": "python",
   "nbconvert_exporter": "python",
   "pygments_lexer": "ipython3",
   "version": "3.7.3"
  }
 },
 "nbformat": 4,
 "nbformat_minor": 2
}
