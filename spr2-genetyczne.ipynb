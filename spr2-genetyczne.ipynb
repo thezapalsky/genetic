{
 "cells": [
  {
   "cell_type": "markdown",
   "metadata": {},
   "source": [
    "# Import libraries"
   ]
  },
  {
   "cell_type": "code",
   "execution_count": 1,
   "metadata": {},
   "outputs": [],
   "source": [
    "import pandas as pd\n",
    "import sys\n",
    "import numpy as np\n",
    "import random"
   ]
  },
  {
   "cell_type": "markdown",
   "metadata": {},
   "source": [
    "# Import data"
   ]
  },
  {
   "cell_type": "code",
   "execution_count": 191,
   "metadata": {},
   "outputs": [],
   "source": [
    "df1 = pd.read_excel('Dane_S2_50_10.xlsx')\n",
    "df1 = df1.drop('Zadanie',1)\n",
    "\n",
    "df2 = pd.read_excel('Dane_S2_100_20.xlsx')\n",
    "df2 = df2.drop('Zadanie',1)\n",
    "\n",
    "df3 = pd.read_excel('Dane_S2_200_20.xlsx')\n",
    "df3 = df3.drop('Zadanie',1)"
   ]
  },
  {
   "cell_type": "markdown",
   "metadata": {},
   "source": [
    "# Functions"
   ]
  },
  {
   "cell_type": "code",
   "execution_count": 302,
   "metadata": {},
   "outputs": [],
   "source": [
    "def CountScore(df):\n",
    "    m_czasy = []\n",
    "    v_czasy = []\n",
    "\n",
    "    for i in range(len(df)):\n",
    "        m_czasy.append([0] * len(df.columns))\n",
    "\n",
    "    for i in range(len(df)):\n",
    "        for j in range(len(df.columns)):\n",
    "            if(i!=0 and j!=0):\n",
    "                czas = max( m_czasy[i-1][j] + df.iloc[i,j],m_czasy[i][j-1] + df.iloc[i,j]) \n",
    "                m_czasy[i][j] = czas\n",
    "            elif(i==0 and j==0):\n",
    "                czas = df.iloc[i,j]\n",
    "                m_czasy[i][j] = czas\n",
    "            elif(i==0):\n",
    "                czas = max(df.iloc[i,j],m_czasy[i][j-1] + df.iloc[i,j])\n",
    "                m_czasy[i][j] = czas\n",
    "            elif(j==0):\n",
    "                czas = max(df.iloc[i,j],m_czasy[i-1][j] + df.iloc[i,j])\n",
    "                m_czasy[i][j] = czas\n",
    "\n",
    "    return m_czasy[i][j]\n",
    "\n",
    "def Cross(assigment1,assigment2,idx=5):\n",
    "    idx=random.randrange(0,len(assigment1),1)\n",
    "    #print(idx)\n",
    "\n",
    "    a=assigment1[:idx], assigment1[idx:]\n",
    "    b=assigment2[:idx], assigment2[idx:]\n",
    "    \n",
    "    child1_part1 = a[0]\n",
    "    child1_part2 = a[1]\n",
    "    child2_part1 = b[0]\n",
    "    child2_part2 = b[1]\n",
    "\n",
    "    child1 = child1_part1 + [ x for x in child2_part2 if not x in child1_part1]\n",
    "    child1 = child1 + [ x for x in child1_part2 if not x in child1]\n",
    "    \n",
    "    child2 = child2_part1 + [ x for x in child1_part2 if not x in child2_part1]\n",
    "    child2 = child2 + [ x for x in child1_part1 if not x in child2]\n",
    "    \n",
    "    return child1, child2\n",
    "  \n",
    "def CrossDf(df1,df2,idx=5):\n",
    "    idx=random.randrange(0,len(df1),1)\n",
    "    #print(idx)\n",
    "    \n",
    "    a=df1[:idx], df1[idx:]\n",
    "    b=df2[:idx], df2[idx:]\n",
    "\n",
    "    child1_part1 = list(a[0].index) \n",
    "    child1_part2 = list (a[1].index)\n",
    "    \n",
    "    child2_part1= list(b[0].index) \n",
    "    child2_part2 = list(b[1].index) \n",
    "    \n",
    "    child1 = child1_part1 + [ x for x in child2_part2 if not x in child1_part1]\n",
    "    child1 = child1 + [ x for x in child1_part2 if not x in child1]\n",
    "    \n",
    "    child2 = child2_part1 + [ x for x in child1_part2 if not x in child2_part1]\n",
    "    child2 = child2 + [ x for x in child1_part1 if not x in child2]\n",
    "    \n",
    "    return df1.iloc[child1], df1.iloc[child2]\n",
    "\n",
    "# def CrossAlt():\n",
    "\n",
    "# def Mutation():\n",
    "    #simpe swap\n",
    "    \n",
    "    \n",
    "# def MutationAlt():\n",
    "    #inwersja\n",
    "\n",
    "def Ranking(temp,n_top=50):\n",
    "    temp = temp.sort_values('score')\n",
    "    temp = temp[:n_top] #bierzemy top 50 najlpszych\n",
    "    temp = temp.reset_index(drop=True) \n",
    "    return temp\n",
    "    \n",
    "def Tournament(temp):\n",
    "    winners = []\n",
    "    temp_bc = temp\n",
    "    while(len(temp)>0):\n",
    "        knights = list(temp.sample(n=2).index)\n",
    "        if(temp.loc[knights[0]].score > temp.loc[knights[1]].score):\n",
    "            winners.append(knights[0])\n",
    "        else:\n",
    "            winners.append(knights[1])\n",
    "        temp = temp.drop(knights)\n",
    "        \n",
    "    temp = temp_bc.loc[winners].reset_index(drop=True)\n",
    "    return temp\n",
    "\n",
    "\n",
    "def shuffleACopy(x):\n",
    "        b = x[:] # make a copy of the keys\n",
    "        random.shuffle(b) # shuffle the copy\n",
    "        return b # return the copy"
   ]
  },
  {
   "cell_type": "markdown",
   "metadata": {},
   "source": [
    "# Main loop"
   ]
  },
  {
   "cell_type": "markdown",
   "metadata": {},
   "source": [
    "## Data 50x10"
   ]
  },
  {
   "cell_type": "code",
   "execution_count": 349,
   "metadata": {},
   "outputs": [
    {
     "name": "stdout",
     "output_type": "stream",
     "text": [
      "CPU times: user 23.8 s, sys: 63.3 ms, total: 23.8 s\n",
      "Wall time: 24.1 s\n"
     ]
    },
    {
     "data": {
      "text/html": [
       "<div>\n",
       "<style scoped>\n",
       "    .dataframe tbody tr th:only-of-type {\n",
       "        vertical-align: middle;\n",
       "    }\n",
       "\n",
       "    .dataframe tbody tr th {\n",
       "        vertical-align: top;\n",
       "    }\n",
       "\n",
       "    .dataframe thead th {\n",
       "        text-align: right;\n",
       "    }\n",
       "</style>\n",
       "<table border=\"1\" class=\"dataframe\">\n",
       "  <thead>\n",
       "    <tr style=\"text-align: right;\">\n",
       "      <th></th>\n",
       "      <th>score</th>\n",
       "      <th>assignment</th>\n",
       "    </tr>\n",
       "  </thead>\n",
       "  <tbody>\n",
       "    <tr>\n",
       "      <th>0</th>\n",
       "      <td>3376</td>\n",
       "      <td>[5, 28, 0, 48, 10, 7, 43, 13, 24, 33, 41, 23, ...</td>\n",
       "    </tr>\n",
       "  </tbody>\n",
       "</table>\n",
       "</div>"
      ],
      "text/plain": [
       "  score                                         assignment\n",
       "0  3376  [5, 28, 0, 48, 10, 7, 43, 13, 24, 33, 41, 23, ..."
      ]
     },
     "execution_count": 349,
     "metadata": {},
     "output_type": "execute_result"
    }
   ],
   "source": [
    "%%time\n",
    "\n",
    "n_pop = 500 #liczba osobnikow w populacji\n",
    "n_top = 50\n",
    "n_generations = 20\n",
    "population = [shuffleACopy(list(df.index)) for x in range(n_pop)] \n",
    "\n",
    "generation_records_mean = []\n",
    "\n",
    "for generation in range(n_generations):\n",
    "    temp = pd.DataFrame(columns=['score','assignment'])\n",
    "\n",
    "    for i,pop in enumerate(population):\n",
    "        score = CountScore(df.iloc[pop])\n",
    "        temp.loc[i] = [score, pop]\n",
    "\n",
    "    best_score = temp.sort_values('score')[:1]\n",
    "        \n",
    "###   METODA RANKINGU ###\n",
    "#     1stx2nd, 3rdx4th, 5thx6th itd. --> malo efektywna\n",
    "    temp = Ranking(temp,n_top)\n",
    "\n",
    "###    METODA TURNIEJU ###\n",
    "#     temp = Tournament(temp)\n",
    "#     wyniki wychodza coraz gorsze w tej metodzie(?)\n",
    "    \n",
    "    r1 = temp[temp.index%2 == 0] #rodzic1\n",
    "    r2 = temp[temp.index%2 == 1].reset_index(drop=True) #rodzic2\n",
    "       \n",
    "    new_pop =[]\n",
    "    for i,rs1 in enumerate(r1.assignment):\n",
    "        children = Cross(rs1, r2.assignment[i])\n",
    "        new_pop.append(children[0])\n",
    "        new_pop.append(children[1])\n",
    "\n",
    "    \n",
    "    population = temp.assignment.tolist() + new_pop\n",
    "    if( int(temp.sort_values('score')[:1].score) > int(best_score.score) ):\n",
    "        best_score = temp.sort_values('score')[:1]\n",
    "    generation_records_mean.append(temp.score.mean())\n",
    "\n",
    "best_score"
   ]
  },
  {
   "cell_type": "code",
   "execution_count": 352,
   "metadata": {},
   "outputs": [
    {
     "data": {
      "text/plain": [
       "[3658.14,\n",
       " 3638.24,\n",
       " 3629.7,\n",
       " 3617.54,\n",
       " 3602.7,\n",
       " 3592.82,\n",
       " 3585.32,\n",
       " 3574.72,\n",
       " 3566.02,\n",
       " 3552.96,\n",
       " 3541.08,\n",
       " 3526.18,\n",
       " 3509.8,\n",
       " 3504.92,\n",
       " 3504.92,\n",
       " 3504.84,\n",
       " 3504.68,\n",
       " 3504.36,\n",
       " 3503.72,\n",
       " 3502.44]"
      ]
     },
     "execution_count": 352,
     "metadata": {},
     "output_type": "execute_result"
    }
   ],
   "source": [
    "generation_records"
   ]
  },
  {
   "cell_type": "code",
   "execution_count": null,
   "metadata": {},
   "outputs": [],
   "source": []
  },
  {
   "cell_type": "code",
   "execution_count": 350,
   "metadata": {},
   "outputs": [],
   "source": [
    "#run to save best score \n",
    "# current: 3376\n",
    "best_score.to_csv(path_or_buf='best.csv')"
   ]
  },
  {
   "cell_type": "code",
   "execution_count": 182,
   "metadata": {},
   "outputs": [
    {
     "name": "stdout",
     "output_type": "stream",
     "text": [
      "63\n"
     ]
    },
    {
     "data": {
      "text/plain": [
       "4036"
      ]
     },
     "execution_count": 182,
     "metadata": {},
     "output_type": "execute_result"
    }
   ],
   "source": [
    "# %%time\n",
    "\n",
    "# knights = list(temp.sample(n=2).index)\n",
    "# print(knights[0])\n",
    "# temp.loc[knights[0]].score"
   ]
  },
  {
   "cell_type": "markdown",
   "metadata": {},
   "source": [
    "# Notes"
   ]
  },
  {
   "cell_type": "code",
   "execution_count": 5,
   "metadata": {},
   "outputs": [],
   "source": [
    "# abc = [11,12,13]\n",
    "# abc + abc\n",
    "# len([5, 1, 2]+[1,2])\n",
    "# [ x for x in list(Cross(df,df,5)[1].index) if not x in abc]\n",
    "# Cross(df2, df2.sample(n=len(df2)), 5)[0]\n",
    "# df1.sample(n=len(df1))\n",
    "# Cross(df, df.sample(n=len(df)), 5)[0]\n",
    "\n",
    "# zzz=list(df.index)\n",
    "# random.shuffle(zzz)\n",
    "# Cross(list(df.index),zzz)[0]"
   ]
  }
 ],
 "metadata": {
  "kernelspec": {
   "display_name": "Python 3",
   "language": "python",
   "name": "python3"
  },
  "language_info": {
   "codemirror_mode": {
    "name": "ipython",
    "version": 3
   },
   "file_extension": ".py",
   "mimetype": "text/x-python",
   "name": "python",
   "nbconvert_exporter": "python",
   "pygments_lexer": "ipython3",
   "version": "3.7.5"
  }
 },
 "nbformat": 4,
 "nbformat_minor": 2
}
