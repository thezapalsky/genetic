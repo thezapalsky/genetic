{
 "cells": [
  {
   "cell_type": "markdown",
   "metadata": {},
   "source": [
    "# Import libraries"
   ]
  },
  {
   "cell_type": "code",
   "execution_count": 1,
   "metadata": {},
   "outputs": [],
   "source": [
    "import pandas as pd\n",
    "import sys\n",
    "import numpy as np\n",
    "import random"
   ]
  },
  {
   "cell_type": "markdown",
   "metadata": {},
   "source": [
    "# Import data"
   ]
  },
  {
   "cell_type": "code",
   "execution_count": 164,
   "metadata": {},
   "outputs": [
    {
     "data": {
      "text/html": [
       "<div>\n",
       "<style scoped>\n",
       "    .dataframe tbody tr th:only-of-type {\n",
       "        vertical-align: middle;\n",
       "    }\n",
       "\n",
       "    .dataframe tbody tr th {\n",
       "        vertical-align: top;\n",
       "    }\n",
       "\n",
       "    .dataframe thead th {\n",
       "        text-align: right;\n",
       "    }\n",
       "</style>\n",
       "<table border=\"1\" class=\"dataframe\">\n",
       "  <thead>\n",
       "    <tr style=\"text-align: right;\">\n",
       "      <th></th>\n",
       "      <th>M1</th>\n",
       "      <th>M2</th>\n",
       "      <th>M3</th>\n",
       "      <th>M4</th>\n",
       "      <th>M5</th>\n",
       "      <th>M6</th>\n",
       "      <th>M7</th>\n",
       "      <th>M8</th>\n",
       "      <th>M9</th>\n",
       "      <th>M10</th>\n",
       "      <th>M11</th>\n",
       "      <th>M12</th>\n",
       "      <th>M13</th>\n",
       "      <th>M14</th>\n",
       "      <th>M15</th>\n",
       "      <th>M16</th>\n",
       "      <th>M17</th>\n",
       "      <th>M18</th>\n",
       "      <th>M19</th>\n",
       "      <th>M20</th>\n",
       "    </tr>\n",
       "  </thead>\n",
       "  <tbody>\n",
       "    <tr>\n",
       "      <th>0</th>\n",
       "      <td>83</td>\n",
       "      <td>47</td>\n",
       "      <td>75</td>\n",
       "      <td>13</td>\n",
       "      <td>97</td>\n",
       "      <td>5</td>\n",
       "      <td>99</td>\n",
       "      <td>42</td>\n",
       "      <td>77</td>\n",
       "      <td>74</td>\n",
       "      <td>89</td>\n",
       "      <td>52</td>\n",
       "      <td>37</td>\n",
       "      <td>4</td>\n",
       "      <td>94</td>\n",
       "      <td>26</td>\n",
       "      <td>18</td>\n",
       "      <td>68</td>\n",
       "      <td>79</td>\n",
       "      <td>26</td>\n",
       "    </tr>\n",
       "    <tr>\n",
       "      <th>1</th>\n",
       "      <td>94</td>\n",
       "      <td>54</td>\n",
       "      <td>98</td>\n",
       "      <td>59</td>\n",
       "      <td>2</td>\n",
       "      <td>91</td>\n",
       "      <td>65</td>\n",
       "      <td>70</td>\n",
       "      <td>2</td>\n",
       "      <td>16</td>\n",
       "      <td>97</td>\n",
       "      <td>7</td>\n",
       "      <td>71</td>\n",
       "      <td>73</td>\n",
       "      <td>24</td>\n",
       "      <td>65</td>\n",
       "      <td>68</td>\n",
       "      <td>26</td>\n",
       "      <td>49</td>\n",
       "      <td>43</td>\n",
       "    </tr>\n",
       "    <tr>\n",
       "      <th>2</th>\n",
       "      <td>45</td>\n",
       "      <td>84</td>\n",
       "      <td>2</td>\n",
       "      <td>32</td>\n",
       "      <td>95</td>\n",
       "      <td>71</td>\n",
       "      <td>45</td>\n",
       "      <td>87</td>\n",
       "      <td>18</td>\n",
       "      <td>88</td>\n",
       "      <td>1</td>\n",
       "      <td>77</td>\n",
       "      <td>68</td>\n",
       "      <td>56</td>\n",
       "      <td>98</td>\n",
       "      <td>92</td>\n",
       "      <td>87</td>\n",
       "      <td>80</td>\n",
       "      <td>63</td>\n",
       "      <td>63</td>\n",
       "    </tr>\n",
       "    <tr>\n",
       "      <th>3</th>\n",
       "      <td>44</td>\n",
       "      <td>82</td>\n",
       "      <td>14</td>\n",
       "      <td>22</td>\n",
       "      <td>40</td>\n",
       "      <td>97</td>\n",
       "      <td>35</td>\n",
       "      <td>86</td>\n",
       "      <td>67</td>\n",
       "      <td>2</td>\n",
       "      <td>77</td>\n",
       "      <td>29</td>\n",
       "      <td>90</td>\n",
       "      <td>2</td>\n",
       "      <td>6</td>\n",
       "      <td>54</td>\n",
       "      <td>65</td>\n",
       "      <td>17</td>\n",
       "      <td>1</td>\n",
       "      <td>14</td>\n",
       "    </tr>\n",
       "    <tr>\n",
       "      <th>4</th>\n",
       "      <td>35</td>\n",
       "      <td>96</td>\n",
       "      <td>37</td>\n",
       "      <td>94</td>\n",
       "      <td>81</td>\n",
       "      <td>20</td>\n",
       "      <td>11</td>\n",
       "      <td>62</td>\n",
       "      <td>11</td>\n",
       "      <td>43</td>\n",
       "      <td>90</td>\n",
       "      <td>8</td>\n",
       "      <td>51</td>\n",
       "      <td>60</td>\n",
       "      <td>7</td>\n",
       "      <td>52</td>\n",
       "      <td>53</td>\n",
       "      <td>81</td>\n",
       "      <td>24</td>\n",
       "      <td>66</td>\n",
       "    </tr>\n",
       "  </tbody>\n",
       "</table>\n",
       "</div>"
      ],
      "text/plain": [
       "   M1  M2  M3  M4  M5  M6  M7  M8  M9  M10  M11  M12  M13  M14  M15  M16  M17  \\\n",
       "0  83  47  75  13  97   5  99  42  77   74   89   52   37    4   94   26   18   \n",
       "1  94  54  98  59   2  91  65  70   2   16   97    7   71   73   24   65   68   \n",
       "2  45  84   2  32  95  71  45  87  18   88    1   77   68   56   98   92   87   \n",
       "3  44  82  14  22  40  97  35  86  67    2   77   29   90    2    6   54   65   \n",
       "4  35  96  37  94  81  20  11  62  11   43   90    8   51   60    7   52   53   \n",
       "\n",
       "   M18  M19  M20  \n",
       "0   68   79   26  \n",
       "1   26   49   43  \n",
       "2   80   63   63  \n",
       "3   17    1   14  \n",
       "4   81   24   66  "
      ]
     },
     "execution_count": 164,
     "metadata": {},
     "output_type": "execute_result"
    }
   ],
   "source": [
    "df1 = pd.read_excel('Dane_S2_50_10.xlsx')\n",
    "df1 = df1.drop('Zadanie',1)\n",
    "\n",
    "df2 = pd.read_excel('Dane_S2_100_20.xlsx')\n",
    "df2 = df2.drop('Zadanie',1)\n",
    "\n",
    "df3 = pd.read_excel('Dane_S2_200_20.xlsx')\n",
    "df3 = df3.drop('Zadanie',1)\n",
    "df3.head()"
   ]
  },
  {
   "cell_type": "markdown",
   "metadata": {},
   "source": [
    "# Functions"
   ]
  },
  {
   "cell_type": "code",
   "execution_count": 167,
   "metadata": {},
   "outputs": [
    {
     "data": {
      "text/plain": [
       "([1, 2, 3, 4, 5, 6, 7, 8, 9, 10], [10, 9, 8, 7, 6, 1, 2, 3, 4, 5])"
      ]
     },
     "execution_count": 167,
     "metadata": {},
     "output_type": "execute_result"
    }
   ],
   "source": [
    "def CountScore(df):\n",
    "    m_czasy = []\n",
    "    v_czasy = []\n",
    "\n",
    "    for i in range(len(df)):\n",
    "        m_czasy.append([0] * len(df.columns))\n",
    "\n",
    "    for i in range(len(df)):\n",
    "        for j in range(len(df.columns)):\n",
    "            if(i!=0 and j!=0):\n",
    "                czas = max( m_czasy[i-1][j] + df.iloc[i,j],m_czasy[i][j-1] + df.iloc[i,j]) \n",
    "                m_czasy[i][j] = czas\n",
    "            elif(i==0 and j==0):\n",
    "                czas = df.iloc[i,j]\n",
    "                m_czasy[i][j] = czas\n",
    "            elif(i==0):\n",
    "                czas = max(df.iloc[i,j],m_czasy[i][j-1] + df.iloc[i,j])\n",
    "                m_czasy[i][j] = czas\n",
    "            elif(j==0):\n",
    "                czas = max(df.iloc[i,j],m_czasy[i-1][j] + df.iloc[i,j])\n",
    "                m_czasy[i][j] = czas\n",
    "\n",
    "    return m_czasy[i][j]\n",
    "\n",
    "def Cross(assigment1,assigment2,idx=5):\n",
    "# def Cross(df1,df2,idx=5):\n",
    "#     idx=random.randrange(0,len(df1),1)\n",
    "#     print(idx)\n",
    "    \n",
    "#     a=df1[:idx], df1[idx:]\n",
    "#     b=df2[:idx], df2[idx:]\n",
    "#     child1_part1 = list(a[0].index) \n",
    "#     child1_part2 = list (a[1].index)\n",
    "    \n",
    "#     child2_part1= list(b[0].index) \n",
    "#     child2_part2 = list(b[1].index) \n",
    "    a=assigment1[:idx], assigment1[idx:]\n",
    "    b=assigment2[:idx], assigment2[idx:]\n",
    "    \n",
    "    child1_part1 = a[0]\n",
    "    child1_part2 = a[1]\n",
    "    child2_part1 = b[0]\n",
    "    child2_part2 = b[1]\n",
    "\n",
    "    child1 = child1_part1 + [ x for x in child2_part2 if not x in child1_part1]\n",
    "    child1 = child1 + [ x for x in child1_part2 if not x in child1]\n",
    "    \n",
    "    child2 = child2_part1 + [ x for x in child1_part2 if not x in child2_part1]\n",
    "    child2 = child2 + [ x for x in child1_part1 if not x in child2]\n",
    "    \n",
    "#     return df1.iloc[child1] df1.iloc[child2]\n",
    "    return child1, child2\n",
    "    \n",
    "# def Mutation():\n",
    "    #simple swap\n",
    "    \n",
    "# def CrossAlt():\n",
    "    \n",
    "# def MutationAlt():\n",
    "    #inwersja\n",
    "\n",
    "# def Tournament():\n",
    "\n",
    "#Cross([1,2,3,4,5,6,7,8,9,10], [10,9,8,7,6,5,4,3,2,1])"
   ]
  },
  {
   "cell_type": "code",
   "execution_count": 59,
   "metadata": {},
   "outputs": [],
   "source": [
    "# c1 = Cross(df, df.sample(n=len(df)))[1]\n",
    "# c1"
   ]
  },
  {
   "cell_type": "code",
   "execution_count": 169,
   "metadata": {},
   "outputs": [],
   "source": [
    "df = df1[:10]"
   ]
  },
  {
   "cell_type": "code",
   "execution_count": 173,
   "metadata": {},
   "outputs": [
    {
     "data": {
      "text/plain": [
       "[0, 1, 2, 3, 4, 5, 6, 7, 8, 9]"
      ]
     },
     "execution_count": 173,
     "metadata": {},
     "output_type": "execute_result"
    }
   ],
   "source": [
    "list(df.index)\n",
    "\n"
   ]
  },
  {
   "cell_type": "markdown",
   "metadata": {},
   "source": [
    "# Notes"
   ]
  },
  {
   "cell_type": "code",
   "execution_count": 6,
   "metadata": {},
   "outputs": [],
   "source": [
    "# abc = [11,12,13]\n",
    "# abc + abc\n",
    "# len([5, 1, 2]+[1,2])\n",
    "# [ x for x in list(Cross(df,df,5)[1].index) if not x in abc]\n",
    "# Cross(df2, df2.sample(n=len(df2)), 5)[0]\n",
    "# df1.sample(n=len(df1))\n",
    "# Cross(df, df.sample(n=len(df)), 5)[0]"
   ]
  }
 ],
 "metadata": {
  "kernelspec": {
   "display_name": "Python 3",
   "language": "python",
   "name": "python3"
  },
  "language_info": {
   "codemirror_mode": {
    "name": "ipython",
    "version": 3
   },
   "file_extension": ".py",
   "mimetype": "text/x-python",
   "name": "python",
   "nbconvert_exporter": "python",
   "pygments_lexer": "ipython3",
   "version": "3.7.3"
  }
 },
 "nbformat": 4,
 "nbformat_minor": 2
}
